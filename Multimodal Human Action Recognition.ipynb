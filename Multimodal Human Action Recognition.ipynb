{
 "cells": [
  {
   "cell_type": "markdown",
   "metadata": {},
   "source": [
    "# 1.0 Initialization"
   ]
  },
  {
   "cell_type": "code",
   "execution_count": 1,
   "metadata": {
    "collapsed": true
   },
   "outputs": [],
   "source": [
    "# import the libraries for data processing\n",
    "import scipy.io\n",
    "import numpy as np\n",
    "import pandas as pd\n",
    "import matplotlib.pyplot as plt\n",
    "import seaborn as sns\n",
    "\n",
    "# import the libraries for classification modelling\n",
    "from sklearn.model_selection import train_test_split\n",
    "from sklearn.naive_bayes import GaussianNB\n",
    "from sklearn.metrics import confusion_matrix, classification_report, accuracy_score, mean_squared_error"
   ]
  },
  {
   "cell_type": "code",
   "execution_count": 2,
   "metadata": {
    "collapsed": true
   },
   "outputs": [],
   "source": [
    "# define and store the activities label in a few lists to be used to build the classification model\n",
    "activity_label_1 = ['swipt_left']*32\n",
    "activity_label_2 = ['swipt_right']*32\n",
    "activity_label_3 = ['wave']*32\n",
    "activity_label_4 = ['clap']*32\n",
    "activity_label_5 = ['throw']*32\n",
    "activity_label_6 = ['arm_cross']*32\n",
    "activity_label_7 = ['basketball_shoot']*32\n",
    "activity_label_8 = ['draw_x']*31\n",
    "activity_label_9 = ['draw_circle_cw']*32\n",
    "activity_label_10 = ['draw_circle_ccw']*32\n",
    "activity_label_11 = ['draw_triangle']*32\n",
    "activity_label_12 = ['bowling']*32\n",
    "activity_label_13 = ['boxing']*32\n",
    "activity_label_14 = ['baseball_swing']*32\n",
    "activity_label_15 = ['tennis_swing']*32\n",
    "activity_label_16 = ['arm_curl']*32\n",
    "activity_label_17 = ['tennis_serve']*32\n",
    "activity_label_18 = ['push']*32\n",
    "activity_label_19 = ['knock']*32\n",
    "activity_label_20 = ['catch']*32\n",
    "activity_label_21 = ['pickup_throw']*32\n",
    "\n",
    "activity_label_22 = ['jog']*32\n",
    "activity_label_23 = ['walk']*31\n",
    "activity_label_24 = ['sit2stand']*32\n",
    "activity_label_25 = ['stand2sit']*32\n",
    "activity_label_26 = ['lunge']*32\n",
    "activity_label_27 = ['squat']*31\n",
    "\n",
    "full_5_activity_label = activity_label_1 + activity_label_2 + activity_label_3 + activity_label_4 + activity_label_5\n",
    "\n",
    "full_10_activity_label = activity_label_1 + activity_label_2 + activity_label_3 + activity_label_4 + activity_label_5 + \\\n",
    "                        activity_label_6 + activity_label_7 + activity_label_8 + activity_label_9 + activity_label_10\n",
    "\n",
    "full_15_activity_label = activity_label_1 + activity_label_2 + activity_label_3 + activity_label_4 + activity_label_5 + \\\n",
    "                        activity_label_6 + activity_label_7 + activity_label_8 + activity_label_9 + activity_label_10 + \\\n",
    "                        activity_label_11 + activity_label_12 + activity_label_13 + activity_label_14 + activity_label_15\n",
    "\n",
    "full_21_activity_label = activity_label_1 + activity_label_2 + activity_label_3 + activity_label_4 + activity_label_5 + \\\n",
    "                        activity_label_6 + activity_label_7 + activity_label_8 + activity_label_9 + activity_label_10 + \\\n",
    "                        activity_label_11 + activity_label_12 + activity_label_13 + activity_label_14 + activity_label_15 + \\\n",
    "                        activity_label_16 + activity_label_17 + activity_label_18 + activity_label_19 + activity_label_20 + \\\n",
    "                        activity_label_21\n",
    "                        \n",
    "full_27_activity_label = activity_label_1 + activity_label_2 + activity_label_3 + activity_label_4 + activity_label_5 + \\\n",
    "                        activity_label_6 + activity_label_7 + activity_label_8 + activity_label_9 + activity_label_10 + \\\n",
    "                        activity_label_11 + activity_label_12 + activity_label_13 + activity_label_14 + activity_label_15 + \\\n",
    "                        activity_label_16 + activity_label_17 + activity_label_18 + activity_label_19 + activity_label_20 + \\\n",
    "                        activity_label_21 + activity_label_22 + activity_label_23 + activity_label_24 + activity_label_25 + \\\n",
    "                        activity_label_26 + activity_label_27"
   ]
  },
  {
   "cell_type": "code",
   "execution_count": 3,
   "metadata": {
    "collapsed": true
   },
   "outputs": [],
   "source": [
    "# Select the set of activity label to be classified\n",
    "# 1. full_5_activity_label\n",
    "# 2. full_10_activity_label\n",
    "# 3. full_15_activity_label\n",
    "# 4. full_21_activity_label\n",
    "# 5. full_17_activity_label\n",
    "complete_activity_label = full_5_activity_label\n",
    "\n",
    "# Define the number of activity to be classified\n",
    "# 1. 5\n",
    "# 2. 10\n",
    "# 3. 15\n",
    "# 4. 21\n",
    "# 5. 27\n",
    "activity_number = 5"
   ]
  },
  {
   "cell_type": "markdown",
   "metadata": {},
   "source": [
    "# 2.0 Data Processing"
   ]
  },
  {
   "cell_type": "markdown",
   "metadata": {},
   "source": [
    "## 2.1 Inertial data processing"
   ]
  },
  {
   "cell_type": "code",
   "execution_count": 4,
   "metadata": {},
   "outputs": [
    {
     "name": "stdout",
     "output_type": "stream",
     "text": [
      "Start of reading......\n",
      "a1_s1_t1_inertial: (160, 6)\n",
      "a1_s1_t2_inertial: (154, 6)\n",
      "a1_s1_t3_inertial: (165, 6)\n",
      "a1_s1_t4_inertial: (158, 6)\n",
      "a1_s2_t1_inertial: (142, 6)\n",
      "a1_s2_t2_inertial: (156, 6)\n",
      "a1_s2_t3_inertial: (143, 6)\n",
      "a1_s2_t4_inertial: (157, 6)\n",
      "a1_s3_t1_inertial: (146, 6)\n",
      "a1_s3_t2_inertial: (127, 6)\n",
      "a1_s3_t3_inertial: (125, 6)\n",
      "a1_s3_t4_inertial: (150, 6)\n",
      "a1_s4_t1_inertial: (145, 6)\n",
      "a1_s4_t2_inertial: (143, 6)\n",
      "a1_s4_t3_inertial: (142, 6)\n",
      "a1_s4_t4_inertial: (160, 6)\n",
      "a1_s5_t1_inertial: (186, 6)\n",
      "a1_s5_t2_inertial: (170, 6)\n",
      "a1_s5_t3_inertial: (190, 6)\n",
      "a1_s5_t4_inertial: (180, 6)\n",
      "a1_s6_t1_inertial: (187, 6)\n",
      "a1_s6_t2_inertial: (180, 6)\n",
      "a1_s6_t3_inertial: (183, 6)\n",
      "a1_s6_t4_inertial: (189, 6)\n",
      "a1_s7_t1_inertial: (149, 6)\n",
      "a1_s7_t2_inertial: (163, 6)\n",
      "a1_s7_t3_inertial: (143, 6)\n",
      "a1_s7_t4_inertial: (141, 6)\n",
      "a1_s8_t1_inertial: (197, 6)\n",
      "a1_s8_t2_inertial: (169, 6)\n",
      "a1_s8_t3_inertial: (181, 6)\n",
      "a1_s8_t4_inertial: (169, 6)\n",
      "a2_s1_t1_inertial: (166, 6)\n",
      "a2_s1_t2_inertial: (146, 6)\n",
      "a2_s1_t3_inertial: (139, 6)\n",
      "a2_s1_t4_inertial: (146, 6)\n",
      "a2_s2_t1_inertial: (165, 6)\n",
      "a2_s2_t2_inertial: (131, 6)\n",
      "a2_s2_t3_inertial: (152, 6)\n",
      "a2_s2_t4_inertial: (159, 6)\n",
      "a2_s3_t1_inertial: (154, 6)\n",
      "a2_s3_t2_inertial: (140, 6)\n",
      "a2_s3_t3_inertial: (164, 6)\n",
      "a2_s3_t4_inertial: (139, 6)\n",
      "a2_s4_t1_inertial: (128, 6)\n",
      "a2_s4_t2_inertial: (147, 6)\n",
      "a2_s4_t3_inertial: (144, 6)\n",
      "a2_s4_t4_inertial: (168, 6)\n",
      "a2_s5_t1_inertial: (157, 6)\n",
      "a2_s5_t2_inertial: (178, 6)\n",
      "a2_s5_t3_inertial: (182, 6)\n",
      "a2_s5_t4_inertial: (186, 6)\n",
      "a2_s6_t1_inertial: (187, 6)\n",
      "a2_s6_t2_inertial: (190, 6)\n",
      "a2_s6_t3_inertial: (195, 6)\n",
      "a2_s6_t4_inertial: (194, 6)\n",
      "a2_s7_t1_inertial: (125, 6)\n",
      "a2_s7_t2_inertial: (140, 6)\n",
      "a2_s7_t3_inertial: (134, 6)\n",
      "a2_s7_t4_inertial: (133, 6)\n",
      "a2_s8_t1_inertial: (164, 6)\n",
      "a2_s8_t2_inertial: (144, 6)\n",
      "a2_s8_t3_inertial: (142, 6)\n",
      "a2_s8_t4_inertial: (145, 6)\n",
      "a3_s1_t1_inertial: (184, 6)\n",
      "a3_s1_t2_inertial: (188, 6)\n",
      "a3_s1_t3_inertial: (188, 6)\n",
      "a3_s1_t4_inertial: (177, 6)\n",
      "a3_s2_t1_inertial: (168, 6)\n",
      "a3_s2_t2_inertial: (158, 6)\n",
      "a3_s2_t3_inertial: (170, 6)\n",
      "a3_s2_t4_inertial: (174, 6)\n",
      "a3_s3_t1_inertial: (175, 6)\n",
      "a3_s3_t2_inertial: (169, 6)\n",
      "a3_s3_t3_inertial: (160, 6)\n",
      "a3_s3_t4_inertial: (189, 6)\n",
      "a3_s4_t1_inertial: (154, 6)\n",
      "a3_s4_t2_inertial: (179, 6)\n",
      "a3_s4_t3_inertial: (167, 6)\n",
      "a3_s4_t4_inertial: (178, 6)\n",
      "a3_s5_t1_inertial: (164, 6)\n",
      "a3_s5_t2_inertial: (206, 6)\n",
      "a3_s5_t3_inertial: (191, 6)\n",
      "a3_s5_t4_inertial: (204, 6)\n",
      "a3_s6_t1_inertial: (209, 6)\n",
      "a3_s6_t2_inertial: (193, 6)\n",
      "a3_s6_t3_inertial: (206, 6)\n",
      "a3_s6_t4_inertial: (188, 6)\n",
      "a3_s7_t1_inertial: (147, 6)\n",
      "a3_s7_t2_inertial: (151, 6)\n",
      "a3_s7_t3_inertial: (151, 6)\n",
      "a3_s7_t4_inertial: (156, 6)\n",
      "a3_s8_t1_inertial: (165, 6)\n",
      "a3_s8_t2_inertial: (151, 6)\n",
      "a3_s8_t3_inertial: (158, 6)\n",
      "a3_s8_t4_inertial: (169, 6)\n",
      "a4_s1_t1_inertial: (152, 6)\n",
      "a4_s1_t2_inertial: (154, 6)\n",
      "a4_s1_t3_inertial: (170, 6)\n",
      "a4_s1_t4_inertial: (183, 6)\n",
      "a4_s2_t1_inertial: (139, 6)\n",
      "a4_s2_t2_inertial: (131, 6)\n",
      "a4_s2_t3_inertial: (145, 6)\n",
      "a4_s2_t4_inertial: (150, 6)\n",
      "a4_s3_t1_inertial: (145, 6)\n",
      "a4_s3_t2_inertial: (151, 6)\n",
      "a4_s3_t3_inertial: (165, 6)\n",
      "a4_s3_t4_inertial: (174, 6)\n",
      "a4_s4_t1_inertial: (150, 6)\n",
      "a4_s4_t2_inertial: (159, 6)\n",
      "a4_s4_t3_inertial: (150, 6)\n",
      "a4_s4_t4_inertial: (143, 6)\n",
      "a4_s5_t1_inertial: (138, 6)\n",
      "a4_s5_t2_inertial: (141, 6)\n",
      "a4_s5_t3_inertial: (165, 6)\n",
      "a4_s5_t4_inertial: (167, 6)\n",
      "a4_s6_t1_inertial: (197, 6)\n",
      "a4_s6_t2_inertial: (193, 6)\n",
      "a4_s6_t3_inertial: (188, 6)\n",
      "a4_s6_t4_inertial: (180, 6)\n",
      "a4_s7_t1_inertial: (157, 6)\n",
      "a4_s7_t2_inertial: (177, 6)\n",
      "a4_s7_t3_inertial: (174, 6)\n",
      "a4_s7_t4_inertial: (169, 6)\n",
      "a4_s8_t1_inertial: (181, 6)\n",
      "a4_s8_t2_inertial: (193, 6)\n",
      "a4_s8_t3_inertial: (158, 6)\n",
      "a4_s8_t4_inertial: (176, 6)\n",
      "a5_s1_t1_inertial: (174, 6)\n",
      "a5_s1_t2_inertial: (161, 6)\n",
      "a5_s1_t3_inertial: (169, 6)\n",
      "a5_s1_t4_inertial: (162, 6)\n",
      "a5_s2_t1_inertial: (142, 6)\n",
      "a5_s2_t2_inertial: (142, 6)\n",
      "a5_s2_t3_inertial: (145, 6)\n",
      "a5_s2_t4_inertial: (145, 6)\n",
      "a5_s3_t1_inertial: (139, 6)\n",
      "a5_s3_t2_inertial: (159, 6)\n",
      "a5_s3_t3_inertial: (151, 6)\n",
      "a5_s3_t4_inertial: (154, 6)\n",
      "a5_s4_t1_inertial: (124, 6)\n",
      "a5_s4_t2_inertial: (141, 6)\n",
      "a5_s4_t3_inertial: (130, 6)\n",
      "a5_s4_t4_inertial: (122, 6)\n",
      "a5_s5_t1_inertial: (150, 6)\n",
      "a5_s5_t2_inertial: (162, 6)\n",
      "a5_s5_t3_inertial: (167, 6)\n",
      "a5_s5_t4_inertial: (159, 6)\n",
      "a5_s6_t1_inertial: (180, 6)\n",
      "a5_s6_t2_inertial: (178, 6)\n",
      "a5_s6_t3_inertial: (179, 6)\n",
      "a5_s6_t4_inertial: (168, 6)\n",
      "a5_s7_t1_inertial: (152, 6)\n",
      "a5_s7_t2_inertial: (163, 6)\n",
      "a5_s7_t3_inertial: (193, 6)\n",
      "a5_s7_t4_inertial: (159, 6)\n",
      "a5_s8_t1_inertial: (183, 6)\n",
      "a5_s8_t2_inertial: (156, 6)\n",
      "a5_s8_t3_inertial: (142, 6)\n",
      "a5_s8_t4_inertial: (139, 6)\n",
      "End of reading......\n",
      "160 of dataset been read and stored.\n"
     ]
    }
   ],
   "source": [
    "#########################################################\n",
    "###Read the Inertial data and store in as a dictionary###\n",
    "#########################################################\n",
    "subject_number = 8\n",
    "trial_number = 4\n",
    "\n",
    "i = 0\n",
    "j = 0\n",
    "k = 0\n",
    "\n",
    "count = 0\n",
    "inertial = {}\n",
    "\n",
    "print(\"Start of reading......\")\n",
    "\n",
    "for i in range(activity_number):  \n",
    "    i = i + 1\n",
    "    for j in range(subject_number):\n",
    "        j = j + 1\n",
    "        \n",
    "        # change the trial number to 3 for three subject with removed corrupted trial set \n",
    "        if (i == 8 and j == 1) or (i == 23 and j == 6) or (i == 27 and j == 8):\n",
    "            trial_number = 3\n",
    "        else:\n",
    "            trial_number = 4\n",
    "      \n",
    "        for k in range(trial_number):\n",
    "            k = k + 1\n",
    "            \n",
    "            inertial[\"a{0}_s{1}_t{2}_inertial\".format(i,j,k)] = scipy.io.loadmat('a' + str(i) + '_s' + str(j) + '_t' + str(k) + '_inertial.mat')\n",
    "            inertial[\"a{0}_s{1}_t{2}_inertial\".format(i,j,k)] = inertial[\"a{0}_s{1}_t{2}_inertial\".format(i,j,k)]['d_iner']\n",
    "\n",
    "            curr_inertial = inertial[\"a{0}_s{1}_t{2}_inertial\".format(i,j,k)]\n",
    "                \n",
    "            print('a' + str(i) + '_s' + str(j) + '_t' + str(k) + '_inertial: ' + str(inertial['a{0}_s{1}_t{2}_inertial'.format(i,j,k)].shape))\n",
    "            \n",
    "            count =  count + 1\n",
    "\n",
    "print(\"End of reading......\")\n",
    "print(str(count) + \" of dataset been read and stored.\")"
   ]
  },
  {
   "cell_type": "code",
   "execution_count": 5,
   "metadata": {},
   "outputs": [
    {
     "name": "stdout",
     "output_type": "stream",
     "text": [
      "122\n"
     ]
    }
   ],
   "source": [
    "############################################################################\n",
    "###Identify the minimum number of frame for Inertial dataset and store it###\n",
    "############################################################################\n",
    "inverse_inertial = [(key, value) for key, value in inertial.items()]\n",
    "\n",
    "iner_frame_min = inverse_inertial[0][1].shape[0]\n",
    "\n",
    "for item in range(len(inverse_inertial)):\n",
    "    iner_frame_min = min(iner_frame_min, inverse_inertial[item][1].shape[0])\n",
    "\n",
    "print(iner_frame_min)"
   ]
  },
  {
   "cell_type": "code",
   "execution_count": 6,
   "metadata": {
    "collapsed": true
   },
   "outputs": [],
   "source": [
    "#####################################################################################\n",
    "###reshape the Inertial dataset to 1-D array using the minimum number of frame and###\n",
    "###stacked up to become 2-D array to be fit into the classification model############\n",
    "#####################################################################################\n",
    "for i in range(activity_number):  \n",
    "    i = i + 1\n",
    "    for j in range(subject_number):\n",
    "        j = j + 1\n",
    "        \n",
    "        # change the trial number to 3 for three subject with removed corrupted trial set \n",
    "        if (i == 8 and j == 1) or (i == 23 and j == 6) or (i == 27 and j == 8):\n",
    "            trial_number = 3\n",
    "        else:\n",
    "            trial_number = 4\n",
    "      \n",
    "        for k in range(trial_number):\n",
    "            k = k + 1\n",
    "\n",
    "            curr_inertial = inertial[\"a{0}_s{1}_t{2}_inertial\".format(i,j,k)]\n",
    "            \n",
    "            if i == 1 and j == 1 and k == 1:\n",
    "                iner_cut = curr_inertial[:iner_frame_min,:6]\n",
    "                d2_temp_iner_first = iner_cut.reshape(iner_frame_min*6)\n",
    "                combined_iner = np.vstack((d2_temp_iner_first,))\n",
    "            else:\n",
    "                iner_cut = curr_inertial[:iner_frame_min,:6]\n",
    "                d2_temp_iner_rest = iner_cut.reshape(iner_frame_min*6)\n",
    "                combined_iner = np.vstack((combined_iner, d2_temp_iner_rest))\n",
    "                            \n",
    "            count =  count + 1"
   ]
  },
  {
   "cell_type": "code",
   "execution_count": 7,
   "metadata": {},
   "outputs": [
    {
     "data": {
      "text/plain": [
       "(160, 732)"
      ]
     },
     "execution_count": 7,
     "metadata": {},
     "output_type": "execute_result"
    }
   ],
   "source": [
    "############################################\n",
    "###verify the reshaped Inertial dataframe###\n",
    "############################################\n",
    "inertial_features = np.array(combined_iner)\n",
    "inertial_features.shape"
   ]
  },
  {
   "cell_type": "markdown",
   "metadata": {},
   "source": [
    "## 2.2 Skeleton data processing"
   ]
  },
  {
   "cell_type": "code",
   "execution_count": 8,
   "metadata": {},
   "outputs": [
    {
     "name": "stdout",
     "output_type": "stream",
     "text": [
      "Start of reading......\n",
      "a1_s1_t1_skeleton: (20, 3, 48)\n",
      "a1_s1_t2_skeleton: (20, 3, 52)\n",
      "a1_s1_t3_skeleton: (20, 3, 53)\n",
      "a1_s1_t4_skeleton: (20, 3, 61)\n",
      "a1_s2_t1_skeleton: (20, 3, 58)\n",
      "a1_s2_t2_skeleton: (20, 3, 60)\n",
      "a1_s2_t3_skeleton: (20, 3, 56)\n",
      "a1_s2_t4_skeleton: (20, 3, 55)\n",
      "a1_s3_t1_skeleton: (20, 3, 56)\n",
      "a1_s3_t2_skeleton: (20, 3, 52)\n",
      "a1_s3_t3_skeleton: (20, 3, 50)\n",
      "a1_s3_t4_skeleton: (20, 3, 58)\n",
      "a1_s4_t1_skeleton: (20, 3, 55)\n",
      "a1_s4_t2_skeleton: (20, 3, 56)\n",
      "a1_s4_t3_skeleton: (20, 3, 56)\n",
      "a1_s4_t4_skeleton: (20, 3, 63)\n",
      "a1_s5_t1_skeleton: (20, 3, 69)\n",
      "a1_s5_t2_skeleton: (20, 3, 63)\n",
      "a1_s5_t3_skeleton: (20, 3, 72)\n",
      "a1_s5_t4_skeleton: (20, 3, 68)\n",
      "a1_s6_t1_skeleton: (20, 3, 71)\n",
      "a1_s6_t2_skeleton: (20, 3, 71)\n",
      "a1_s6_t3_skeleton: (20, 3, 70)\n",
      "a1_s6_t4_skeleton: (20, 3, 72)\n",
      "a1_s7_t1_skeleton: (20, 3, 59)\n",
      "a1_s7_t2_skeleton: (20, 3, 62)\n",
      "a1_s7_t3_skeleton: (20, 3, 56)\n",
      "a1_s7_t4_skeleton: (20, 3, 55)\n",
      "a1_s8_t1_skeleton: (20, 3, 76)\n",
      "a1_s8_t2_skeleton: (20, 3, 66)\n",
      "a1_s8_t3_skeleton: (20, 3, 69)\n",
      "a1_s8_t4_skeleton: (20, 3, 64)\n",
      "a2_s1_t1_skeleton: (20, 3, 61)\n",
      "a2_s1_t2_skeleton: (20, 3, 54)\n",
      "a2_s1_t3_skeleton: (20, 3, 54)\n",
      "a2_s1_t4_skeleton: (20, 3, 55)\n",
      "a2_s2_t1_skeleton: (20, 3, 60)\n",
      "a2_s2_t2_skeleton: (20, 3, 52)\n",
      "a2_s2_t3_skeleton: (20, 3, 58)\n",
      "a2_s2_t4_skeleton: (20, 3, 62)\n",
      "a2_s3_t1_skeleton: (20, 3, 59)\n",
      "a2_s3_t2_skeleton: (20, 3, 56)\n",
      "a2_s3_t3_skeleton: (20, 3, 60)\n",
      "a2_s3_t4_skeleton: (20, 3, 57)\n",
      "a2_s4_t1_skeleton: (20, 3, 50)\n",
      "a2_s4_t2_skeleton: (20, 3, 52)\n",
      "a2_s4_t3_skeleton: (20, 3, 58)\n",
      "a2_s4_t4_skeleton: (20, 3, 63)\n",
      "a2_s5_t1_skeleton: (20, 3, 55)\n",
      "a2_s5_t2_skeleton: (20, 3, 68)\n",
      "a2_s5_t3_skeleton: (20, 3, 71)\n",
      "a2_s5_t4_skeleton: (20, 3, 70)\n",
      "a2_s6_t1_skeleton: (20, 3, 70)\n",
      "a2_s6_t2_skeleton: (20, 3, 75)\n",
      "a2_s6_t3_skeleton: (20, 3, 74)\n",
      "a2_s6_t4_skeleton: (20, 3, 69)\n",
      "a2_s7_t1_skeleton: (20, 3, 51)\n",
      "a2_s7_t2_skeleton: (20, 3, 53)\n",
      "a2_s7_t3_skeleton: (20, 3, 55)\n",
      "a2_s7_t4_skeleton: (20, 3, 47)\n",
      "a2_s8_t1_skeleton: (20, 3, 67)\n",
      "a2_s8_t2_skeleton: (20, 3, 58)\n",
      "a2_s8_t3_skeleton: (20, 3, 58)\n",
      "a2_s8_t4_skeleton: (20, 3, 56)\n",
      "a3_s1_t1_skeleton: (20, 3, 72)\n",
      "a3_s1_t2_skeleton: (20, 3, 72)\n",
      "a3_s1_t3_skeleton: (20, 3, 69)\n",
      "a3_s1_t4_skeleton: (20, 3, 64)\n",
      "a3_s2_t1_skeleton: (20, 3, 67)\n",
      "a3_s2_t2_skeleton: (20, 3, 63)\n",
      "a3_s2_t3_skeleton: (20, 3, 68)\n",
      "a3_s2_t4_skeleton: (20, 3, 70)\n",
      "a3_s3_t1_skeleton: (20, 3, 67)\n",
      "a3_s3_t2_skeleton: (20, 3, 66)\n",
      "a3_s3_t3_skeleton: (20, 3, 57)\n",
      "a3_s3_t4_skeleton: (20, 3, 63)\n",
      "a3_s4_t1_skeleton: (20, 3, 61)\n",
      "a3_s4_t2_skeleton: (20, 3, 62)\n",
      "a3_s4_t3_skeleton: (20, 3, 66)\n",
      "a3_s4_t4_skeleton: (20, 3, 57)\n",
      "a3_s5_t1_skeleton: (20, 3, 61)\n",
      "a3_s5_t2_skeleton: (20, 3, 79)\n",
      "a3_s5_t3_skeleton: (20, 3, 72)\n",
      "a3_s5_t4_skeleton: (20, 3, 74)\n",
      "a3_s6_t1_skeleton: (20, 3, 80)\n",
      "a3_s6_t2_skeleton: (20, 3, 75)\n",
      "a3_s6_t3_skeleton: (20, 3, 81)\n",
      "a3_s6_t4_skeleton: (20, 3, 70)\n",
      "a3_s7_t1_skeleton: (20, 3, 50)\n",
      "a3_s7_t2_skeleton: (20, 3, 60)\n",
      "a3_s7_t3_skeleton: (20, 3, 49)\n",
      "a3_s7_t4_skeleton: (20, 3, 64)\n",
      "a3_s8_t1_skeleton: (20, 3, 60)\n",
      "a3_s8_t2_skeleton: (20, 3, 58)\n",
      "a3_s8_t3_skeleton: (20, 3, 55)\n",
      "a3_s8_t4_skeleton: (20, 3, 63)\n",
      "a4_s1_t1_skeleton: (20, 3, 59)\n",
      "a4_s1_t2_skeleton: (20, 3, 54)\n",
      "a4_s1_t3_skeleton: (20, 3, 65)\n",
      "a4_s1_t4_skeleton: (20, 3, 62)\n",
      "a4_s2_t1_skeleton: (20, 3, 54)\n",
      "a4_s2_t2_skeleton: (20, 3, 53)\n",
      "a4_s2_t3_skeleton: (20, 3, 59)\n",
      "a4_s2_t4_skeleton: (20, 3, 56)\n",
      "a4_s3_t1_skeleton: (20, 3, 54)\n",
      "a4_s3_t2_skeleton: (20, 3, 55)\n",
      "a4_s3_t3_skeleton: (20, 3, 63)\n",
      "a4_s3_t4_skeleton: (20, 3, 64)\n",
      "a4_s4_t1_skeleton: (20, 3, 58)\n",
      "a4_s4_t2_skeleton: (20, 3, 62)\n",
      "a4_s4_t3_skeleton: (20, 3, 54)\n",
      "a4_s4_t4_skeleton: (20, 3, 56)\n",
      "a4_s5_t1_skeleton: (20, 3, 53)\n",
      "a4_s5_t2_skeleton: (20, 3, 51)\n",
      "a4_s5_t3_skeleton: (20, 3, 63)\n",
      "a4_s5_t4_skeleton: (20, 3, 64)\n",
      "a4_s6_t1_skeleton: (20, 3, 78)\n",
      "a4_s6_t2_skeleton: (20, 3, 75)\n",
      "a4_s6_t3_skeleton: (20, 3, 74)\n",
      "a4_s6_t4_skeleton: (20, 3, 68)\n",
      "a4_s7_t1_skeleton: (20, 3, 62)\n",
      "a4_s7_t2_skeleton: (20, 3, 67)\n",
      "a4_s7_t3_skeleton: (20, 3, 65)\n",
      "a4_s7_t4_skeleton: (20, 3, 62)\n",
      "a4_s8_t1_skeleton: (20, 3, 70)\n",
      "a4_s8_t2_skeleton: (20, 3, 74)\n",
      "a4_s8_t3_skeleton: (20, 3, 58)\n",
      "a4_s8_t4_skeleton: (20, 3, 67)\n",
      "a5_s1_t1_skeleton: (20, 3, 68)\n",
      "a5_s1_t2_skeleton: (20, 3, 61)\n",
      "a5_s1_t3_skeleton: (20, 3, 64)\n",
      "a5_s1_t4_skeleton: (20, 3, 63)\n",
      "a5_s2_t1_skeleton: (20, 3, 53)\n",
      "a5_s2_t2_skeleton: (20, 3, 53)\n",
      "a5_s2_t3_skeleton: (20, 3, 56)\n",
      "a5_s2_t4_skeleton: (20, 3, 56)\n",
      "a5_s3_t1_skeleton: (20, 3, 53)\n",
      "a5_s3_t2_skeleton: (20, 3, 64)\n",
      "a5_s3_t3_skeleton: (20, 3, 54)\n",
      "a5_s3_t4_skeleton: (20, 3, 59)\n",
      "a5_s4_t1_skeleton: (20, 3, 47)\n",
      "a5_s4_t2_skeleton: (20, 3, 50)\n",
      "a5_s4_t3_skeleton: (20, 3, 51)\n",
      "a5_s4_t4_skeleton: (20, 3, 44)\n",
      "a5_s5_t1_skeleton: (20, 3, 59)\n",
      "a5_s5_t2_skeleton: (20, 3, 55)\n",
      "a5_s5_t3_skeleton: (20, 3, 67)\n",
      "a5_s5_t4_skeleton: (20, 3, 62)\n",
      "a5_s6_t1_skeleton: (20, 3, 70)\n",
      "a5_s6_t2_skeleton: (20, 3, 64)\n",
      "a5_s6_t3_skeleton: (20, 3, 68)\n",
      "a5_s6_t4_skeleton: (20, 3, 63)\n",
      "a5_s7_t1_skeleton: (20, 3, 58)\n",
      "a5_s7_t2_skeleton: (20, 3, 59)\n",
      "a5_s7_t3_skeleton: (20, 3, 69)\n",
      "a5_s7_t4_skeleton: (20, 3, 64)\n",
      "a5_s8_t1_skeleton: (20, 3, 61)\n",
      "a5_s8_t2_skeleton: (20, 3, 60)\n",
      "a5_s8_t3_skeleton: (20, 3, 56)\n",
      "a5_s8_t4_skeleton: (20, 3, 50)\n",
      "End of reading......\n",
      "160 of dataset been read and stored.\n"
     ]
    }
   ],
   "source": [
    "#########################################################\n",
    "###Read the Skeleton data and store in as a dictionary###\n",
    "#########################################################\n",
    "subject_number = 8\n",
    "trial_number = 4\n",
    "\n",
    "i = 0\n",
    "j = 0\n",
    "k = 0\n",
    "\n",
    "count = 0\n",
    "skeleton = {}\n",
    "\n",
    "print(\"Start of reading......\")\n",
    "\n",
    "for i in range(activity_number):  \n",
    "    i = i + 1\n",
    "    for j in range(subject_number):\n",
    "        j = j + 1\n",
    "        \n",
    "        # change the trial number to 3 for three subject with removed corrupted trial set \n",
    "        if (i == 8 and j == 1) or (i == 23 and j == 6) or (i == 27 and j == 8):\n",
    "            trial_number = 3\n",
    "        else:\n",
    "            trial_number = 4\n",
    "      \n",
    "        for k in range(trial_number):\n",
    "            k = k + 1\n",
    "            \n",
    "            skeleton[\"a{0}_s{1}_t{2}_skeleton\".format(i,j,k)] = scipy.io.loadmat('a' + str(i) + '_s' + str(j) + '_t' + str(k) + '_skeleton.mat')\n",
    "            skeleton[\"a{0}_s{1}_t{2}_skeleton\".format(i,j,k)] = skeleton[\"a{0}_s{1}_t{2}_skeleton\".format(i,j,k)]['d_skel']\n",
    "\n",
    "            curr_skeleton = skeleton[\"a{0}_s{1}_t{2}_skeleton\".format(i,j,k)]\n",
    "                \n",
    "            print('a' + str(i) + '_s' + str(j) + '_t' + str(k) + '_skeleton: ' + str(skeleton['a{0}_s{1}_t{2}_skeleton'.format(i,j,k)].shape))\n",
    "            \n",
    "            count =  count + 1\n",
    "            \n",
    "print(\"End of reading......\")\n",
    "print(str(count) + \" of dataset been read and stored.\")"
   ]
  },
  {
   "cell_type": "code",
   "execution_count": 9,
   "metadata": {},
   "outputs": [
    {
     "name": "stdout",
     "output_type": "stream",
     "text": [
      "44\n"
     ]
    }
   ],
   "source": [
    "############################################################################\n",
    "###Identify the minimum number of frame for Skeleton dataset and store it###\n",
    "############################################################################\n",
    "inverse_skeleton = [(key, value) for key, value in skeleton.items()]\n",
    "\n",
    "skel_frame_min = inverse_skeleton[0][1].shape[2]\n",
    "\n",
    "for item in range(len(inverse_skeleton)):\n",
    "    skel_frame_min = min(skel_frame_min, inverse_skeleton[item][1].shape[2])\n",
    "\n",
    "print(skel_frame_min)"
   ]
  },
  {
   "cell_type": "code",
   "execution_count": 10,
   "metadata": {
    "collapsed": true
   },
   "outputs": [],
   "source": [
    "#####################################################################################\n",
    "###reshape the Skeleton dataset to 1-D array using the minimum number of frame and###\n",
    "###stacked up to become 2-D array to be fit into the classification model############\n",
    "#####################################################################################\n",
    "for i in range(activity_number):  \n",
    "    i = i + 1\n",
    "    for j in range(subject_number):\n",
    "        j = j + 1\n",
    "        \n",
    "        # change the trial number to 3 for three subject with removed corrupted trial set \n",
    "        if (i == 8 and j == 1) or (i == 23 and j == 6) or (i == 27 and j == 8):\n",
    "            trial_number = 3\n",
    "        else:\n",
    "            trial_number = 4\n",
    "      \n",
    "        for k in range(trial_number):\n",
    "            k = k + 1\n",
    "\n",
    "            curr_skeleton = skeleton[\"a{0}_s{1}_t{2}_skeleton\".format(i,j,k)]\n",
    "            \n",
    "            if i == 1 and j == 1 and k == 1:\n",
    "                skel_cut = curr_skeleton[:20,:3,:skel_frame_min]\n",
    "                d2_temp_skel_first = skel_cut.reshape(20*3*skel_frame_min)\n",
    "                combined_skel = np.vstack((d2_temp_skel_first,))\n",
    "            else:\n",
    "                skel_cut = curr_skeleton[:20,:3,:skel_frame_min]\n",
    "                d2_temp_skel_rest = skel_cut.reshape(20*3*skel_frame_min)\n",
    "                combined_skel = np.vstack((combined_skel, d2_temp_skel_rest))\n",
    "                            \n",
    "            count =  count + 1"
   ]
  },
  {
   "cell_type": "code",
   "execution_count": 11,
   "metadata": {},
   "outputs": [
    {
     "data": {
      "text/plain": [
       "(160, 2640)"
      ]
     },
     "execution_count": 11,
     "metadata": {},
     "output_type": "execute_result"
    }
   ],
   "source": [
    "############################################\n",
    "###verify the reshaped Skeleton dataframe###\n",
    "############################################\n",
    "skeleton_features = np.array(combined_skel)\n",
    "skeleton_features.shape"
   ]
  },
  {
   "cell_type": "markdown",
   "metadata": {},
   "source": [
    "## 2.3 Depth data processing"
   ]
  },
  {
   "cell_type": "code",
   "execution_count": 12,
   "metadata": {},
   "outputs": [
    {
     "name": "stdout",
     "output_type": "stream",
     "text": [
      "Start of reading......\n",
      "a1_s1_t1_depth: (240, 320, 48)\n",
      "a1_s1_t2_depth: (240, 320, 52)\n",
      "a1_s1_t3_depth: (240, 320, 53)\n",
      "a1_s1_t4_depth: (240, 320, 61)\n",
      "a1_s2_t1_depth: (240, 320, 58)\n",
      "a1_s2_t2_depth: (240, 320, 60)\n",
      "a1_s2_t3_depth: (240, 320, 56)\n",
      "a1_s2_t4_depth: (240, 320, 55)\n",
      "a1_s3_t1_depth: (240, 320, 56)\n",
      "a1_s3_t2_depth: (240, 320, 52)\n",
      "a1_s3_t3_depth: (240, 320, 50)\n",
      "a1_s3_t4_depth: (240, 320, 58)\n",
      "a1_s4_t1_depth: (240, 320, 55)\n",
      "a1_s4_t2_depth: (240, 320, 56)\n",
      "a1_s4_t3_depth: (240, 320, 56)\n",
      "a1_s4_t4_depth: (240, 320, 63)\n",
      "a1_s5_t1_depth: (240, 320, 69)\n",
      "a1_s5_t2_depth: (240, 320, 63)\n",
      "a1_s5_t3_depth: (240, 320, 72)\n",
      "a1_s5_t4_depth: (240, 320, 68)\n",
      "a1_s6_t1_depth: (240, 320, 71)\n",
      "a1_s6_t2_depth: (240, 320, 71)\n",
      "a1_s6_t3_depth: (240, 320, 70)\n",
      "a1_s6_t4_depth: (240, 320, 72)\n",
      "a1_s7_t1_depth: (240, 320, 59)\n",
      "a1_s7_t2_depth: (240, 320, 62)\n",
      "a1_s7_t3_depth: (240, 320, 56)\n",
      "a1_s7_t4_depth: (240, 320, 55)\n",
      "a1_s8_t1_depth: (240, 320, 76)\n",
      "a1_s8_t2_depth: (240, 320, 66)\n",
      "a1_s8_t3_depth: (240, 320, 69)\n",
      "a1_s8_t4_depth: (240, 320, 64)\n",
      "a2_s1_t1_depth: (240, 320, 61)\n",
      "a2_s1_t2_depth: (240, 320, 54)\n",
      "a2_s1_t3_depth: (240, 320, 54)\n",
      "a2_s1_t4_depth: (240, 320, 55)\n",
      "a2_s2_t1_depth: (240, 320, 60)\n",
      "a2_s2_t2_depth: (240, 320, 52)\n",
      "a2_s2_t3_depth: (240, 320, 58)\n",
      "a2_s2_t4_depth: (240, 320, 62)\n",
      "a2_s3_t1_depth: (240, 320, 59)\n",
      "a2_s3_t2_depth: (240, 320, 56)\n",
      "a2_s3_t3_depth: (240, 320, 60)\n",
      "a2_s3_t4_depth: (240, 320, 57)\n",
      "a2_s4_t1_depth: (240, 320, 50)\n",
      "a2_s4_t2_depth: (240, 320, 52)\n",
      "a2_s4_t3_depth: (240, 320, 58)\n",
      "a2_s4_t4_depth: (240, 320, 63)\n",
      "a2_s5_t1_depth: (240, 320, 55)\n",
      "a2_s5_t2_depth: (240, 320, 68)\n",
      "a2_s5_t3_depth: (240, 320, 71)\n",
      "a2_s5_t4_depth: (240, 320, 70)\n",
      "a2_s6_t1_depth: (240, 320, 70)\n",
      "a2_s6_t2_depth: (240, 320, 75)\n",
      "a2_s6_t3_depth: (240, 320, 74)\n",
      "a2_s6_t4_depth: (240, 320, 69)\n",
      "a2_s7_t1_depth: (240, 320, 51)\n",
      "a2_s7_t2_depth: (240, 320, 53)\n",
      "a2_s7_t3_depth: (240, 320, 55)\n",
      "a2_s7_t4_depth: (240, 320, 47)\n",
      "a2_s8_t1_depth: (240, 320, 67)\n",
      "a2_s8_t2_depth: (240, 320, 58)\n",
      "a2_s8_t3_depth: (240, 320, 58)\n",
      "a2_s8_t4_depth: (240, 320, 56)\n",
      "a3_s1_t1_depth: (240, 320, 72)\n",
      "a3_s1_t2_depth: (240, 320, 72)\n",
      "a3_s1_t3_depth: (240, 320, 69)\n",
      "a3_s1_t4_depth: (240, 320, 64)\n",
      "a3_s2_t1_depth: (240, 320, 67)\n",
      "a3_s2_t2_depth: (240, 320, 63)\n",
      "a3_s2_t3_depth: (240, 320, 68)\n",
      "a3_s2_t4_depth: (240, 320, 70)\n",
      "a3_s3_t1_depth: (240, 320, 67)\n",
      "a3_s3_t2_depth: (240, 320, 66)\n",
      "a3_s3_t3_depth: (240, 320, 57)\n",
      "a3_s3_t4_depth: (240, 320, 63)\n",
      "a3_s4_t1_depth: (240, 320, 61)\n",
      "a3_s4_t2_depth: (240, 320, 62)\n",
      "a3_s4_t3_depth: (240, 320, 66)\n",
      "a3_s4_t4_depth: (240, 320, 57)\n",
      "a3_s5_t1_depth: (240, 320, 61)\n",
      "a3_s5_t2_depth: (240, 320, 79)\n",
      "a3_s5_t3_depth: (240, 320, 72)\n",
      "a3_s5_t4_depth: (240, 320, 74)\n",
      "a3_s6_t1_depth: (240, 320, 80)\n",
      "a3_s6_t2_depth: (240, 320, 75)\n",
      "a3_s6_t3_depth: (240, 320, 81)\n",
      "a3_s6_t4_depth: (240, 320, 70)\n",
      "a3_s7_t1_depth: (240, 320, 50)\n",
      "a3_s7_t2_depth: (240, 320, 60)\n",
      "a3_s7_t3_depth: (240, 320, 49)\n",
      "a3_s7_t4_depth: (240, 320, 64)\n",
      "a3_s8_t1_depth: (240, 320, 60)\n",
      "a3_s8_t2_depth: (240, 320, 58)\n",
      "a3_s8_t3_depth: (240, 320, 55)\n",
      "a3_s8_t4_depth: (240, 320, 63)\n",
      "a4_s1_t1_depth: (240, 320, 59)\n",
      "a4_s1_t2_depth: (240, 320, 54)\n",
      "a4_s1_t3_depth: (240, 320, 65)\n",
      "a4_s1_t4_depth: (240, 320, 62)\n",
      "a4_s2_t1_depth: (240, 320, 54)\n",
      "a4_s2_t2_depth: (240, 320, 53)\n",
      "a4_s2_t3_depth: (240, 320, 59)\n",
      "a4_s2_t4_depth: (240, 320, 56)\n",
      "a4_s3_t1_depth: (240, 320, 54)\n",
      "a4_s3_t2_depth: (240, 320, 55)\n",
      "a4_s3_t3_depth: (240, 320, 63)\n",
      "a4_s3_t4_depth: (240, 320, 64)\n",
      "a4_s4_t1_depth: (240, 320, 58)\n",
      "a4_s4_t2_depth: (240, 320, 62)\n",
      "a4_s4_t3_depth: (240, 320, 54)\n",
      "a4_s4_t4_depth: (240, 320, 56)\n",
      "a4_s5_t1_depth: (240, 320, 53)\n",
      "a4_s5_t2_depth: (240, 320, 51)\n",
      "a4_s5_t3_depth: (240, 320, 63)\n",
      "a4_s5_t4_depth: (240, 320, 64)\n",
      "a4_s6_t1_depth: (240, 320, 78)\n",
      "a4_s6_t2_depth: (240, 320, 75)\n",
      "a4_s6_t3_depth: (240, 320, 74)\n",
      "a4_s6_t4_depth: (240, 320, 68)\n",
      "a4_s7_t1_depth: (240, 320, 62)\n",
      "a4_s7_t2_depth: (240, 320, 67)\n",
      "a4_s7_t3_depth: (240, 320, 65)\n",
      "a4_s7_t4_depth: (240, 320, 62)\n",
      "a4_s8_t1_depth: (240, 320, 70)\n",
      "a4_s8_t2_depth: (240, 320, 74)\n",
      "a4_s8_t3_depth: (240, 320, 58)\n",
      "a4_s8_t4_depth: (240, 320, 67)\n",
      "a5_s1_t1_depth: (240, 320, 68)\n",
      "a5_s1_t2_depth: (240, 320, 61)\n",
      "a5_s1_t3_depth: (240, 320, 64)\n",
      "a5_s1_t4_depth: (240, 320, 63)\n",
      "a5_s2_t1_depth: (240, 320, 53)\n",
      "a5_s2_t2_depth: (240, 320, 53)\n",
      "a5_s2_t3_depth: (240, 320, 56)\n",
      "a5_s2_t4_depth: (240, 320, 56)\n",
      "a5_s3_t1_depth: (240, 320, 53)\n",
      "a5_s3_t2_depth: (240, 320, 64)\n",
      "a5_s3_t3_depth: (240, 320, 54)\n",
      "a5_s3_t4_depth: (240, 320, 59)\n",
      "a5_s4_t1_depth: (240, 320, 47)\n",
      "a5_s4_t2_depth: (240, 320, 50)\n",
      "a5_s4_t3_depth: (240, 320, 51)\n",
      "a5_s4_t4_depth: (240, 320, 44)\n",
      "a5_s5_t1_depth: (240, 320, 59)\n",
      "a5_s5_t2_depth: (240, 320, 55)\n",
      "a5_s5_t3_depth: (240, 320, 67)\n",
      "a5_s5_t4_depth: (240, 320, 62)\n",
      "a5_s6_t1_depth: (240, 320, 70)\n",
      "a5_s6_t2_depth: (240, 320, 64)\n",
      "a5_s6_t3_depth: (240, 320, 68)\n",
      "a5_s6_t4_depth: (240, 320, 63)\n",
      "a5_s7_t1_depth: (240, 320, 58)\n",
      "a5_s7_t2_depth: (240, 320, 59)\n",
      "a5_s7_t3_depth: (240, 320, 69)\n",
      "a5_s7_t4_depth: (240, 320, 64)\n",
      "a5_s8_t1_depth: (240, 320, 61)\n",
      "a5_s8_t2_depth: (240, 320, 60)\n",
      "a5_s8_t3_depth: (240, 320, 56)\n",
      "a5_s8_t4_depth: (240, 320, 50)\n",
      "End of reading......\n",
      "160 of dataset been read and stored.\n"
     ]
    }
   ],
   "source": [
    "######################################################\n",
    "###Read the Depth data and store in as a dictionary###\n",
    "######################################################\n",
    "subject_number = 8\n",
    "trial_number = 4\n",
    "\n",
    "i = 0\n",
    "j = 0\n",
    "k = 0\n",
    "\n",
    "count = 0\n",
    "depth = {}\n",
    "\n",
    "print(\"Start of reading......\")\n",
    "\n",
    "for i in range(activity_number):  \n",
    "    i = i + 1\n",
    "    for j in range(subject_number):\n",
    "        j = j + 1\n",
    "        \n",
    "        # change the trial number to 3 for three subject with removed corrupted trial set \n",
    "        if (i == 8 and j == 1) or (i == 23 and j == 6) or (i == 27 and j == 8):\n",
    "            trial_number = 3\n",
    "        else:\n",
    "            trial_number = 4\n",
    "      \n",
    "        for k in range(trial_number):\n",
    "            k = k + 1\n",
    "            \n",
    "            depth[\"a{0}_s{1}_t{2}_depth\".format(i,j,k)] = scipy.io.loadmat('a' + str(i) + '_s' + str(j) + '_t' + str(k) + '_depth.mat')\n",
    "            depth[\"a{0}_s{1}_t{2}_depth\".format(i,j,k)] = depth[\"a{0}_s{1}_t{2}_depth\".format(i,j,k)]['d_depth']\n",
    "\n",
    "            curr_skeleton = depth[\"a{0}_s{1}_t{2}_depth\".format(i,j,k)]\n",
    "                \n",
    "            print('a' + str(i) + '_s' + str(j) + '_t' + str(k) + '_depth: ' + str(depth['a{0}_s{1}_t{2}_depth'.format(i,j,k)].shape))\n",
    "            \n",
    "            count =  count + 1\n",
    "            \n",
    "print(\"End of reading......\")\n",
    "print(str(count) + \" of dataset been read and stored.\")"
   ]
  },
  {
   "cell_type": "code",
   "execution_count": 13,
   "metadata": {},
   "outputs": [
    {
     "name": "stdout",
     "output_type": "stream",
     "text": [
      "44\n"
     ]
    }
   ],
   "source": [
    "#########################################################################\n",
    "###Identify the minimum number of frame for Depth dataset and store it###\n",
    "#########################################################################\n",
    "inverse_depth = [(key, value) for key, value in depth.items()]\n",
    "\n",
    "depth_frame_min = inverse_depth[0][1].shape[2]\n",
    "\n",
    "for item in range(len(inverse_depth)):\n",
    "    depth_frame_min = min(depth_frame_min, inverse_depth[item][1].shape[2])\n",
    "\n",
    "print(depth_frame_min)"
   ]
  },
  {
   "cell_type": "code",
   "execution_count": 14,
   "metadata": {
    "collapsed": true
   },
   "outputs": [],
   "source": [
    "##################################################################################\n",
    "###reshape the Depth dataset to 1-D array using the minimum number of frame and###\n",
    "###stacked up to become 2-D array to be fit into the classification model#########\n",
    "##################################################################################\n",
    "for i in range(activity_number):  \n",
    "    i = i + 1\n",
    "    for j in range(subject_number):\n",
    "        j = j + 1\n",
    "        \n",
    "        # change the trial number to 3 for three subject with removed corrupted trial set \n",
    "        if (i == 8 and j == 1) or (i == 23 and j == 6) or (i == 27 and j == 8):\n",
    "            trial_number = 3\n",
    "        else:\n",
    "            trial_number = 4\n",
    "      \n",
    "        for k in range(trial_number):\n",
    "            k = k + 1\n",
    "\n",
    "            curr_depth = depth[\"a{0}_s{1}_t{2}_depth\".format(i,j,k)]\n",
    "            \n",
    "            if i == 1 and j == 1 and k == 1:\n",
    "                depth_cut = curr_depth[:240,:320,:depth_frame_min]\n",
    "                d2_temp_depth_first = depth_cut.reshape(240*320*depth_frame_min)\n",
    "                combined_depth = np.vstack((d2_temp_depth_first,))\n",
    "            else:\n",
    "                depth_cut = curr_depth[:240,:320,:depth_frame_min]\n",
    "                d2_temp_depth_rest = depth_cut.reshape(240*320*depth_frame_min)\n",
    "                combined_depth = np.vstack((combined_depth, d2_temp_depth_rest))\n",
    "                            \n",
    "            count =  count + 1"
   ]
  },
  {
   "cell_type": "code",
   "execution_count": 15,
   "metadata": {},
   "outputs": [
    {
     "data": {
      "text/plain": [
       "(160, 3379200)"
      ]
     },
     "execution_count": 15,
     "metadata": {},
     "output_type": "execute_result"
    }
   ],
   "source": [
    "#########################################\n",
    "###verify the reshaped Depth dataframe###\n",
    "#########################################\n",
    "depth_features = np.array(combined_depth)\n",
    "depth_features.shape"
   ]
  },
  {
   "cell_type": "markdown",
   "metadata": {},
   "source": [
    "# 3.0 Data Modelling using Gaussian Naive Bayes"
   ]
  },
  {
   "cell_type": "code",
   "execution_count": 16,
   "metadata": {
    "collapsed": true
   },
   "outputs": [],
   "source": [
    "#########################################################\n",
    "###define a function to visualise the confusion matrix###\n",
    "#########################################################\n",
    "import itertools\n",
    "\n",
    "def plot_confusion_matrix(cm, classes,\n",
    "                          normalize=False,\n",
    "                          title='Confusion matrix',\n",
    "                          cmap=plt.cm.Blues):\n",
    "    \"\"\"\n",
    "    This function prints and plots the confusion matrix.\n",
    "    Normalization can be applied by setting `normalize=True`.\n",
    "    \"\"\"\n",
    "    if normalize:\n",
    "        cm = cm.astype('float') / cm.sum(axis=1)[:, np.newaxis]\n",
    "        print(\"Normalized confusion matrix\")\n",
    "    else:\n",
    "        print('Confusion matrix')\n",
    "\n",
    "    plt.imshow(cm, interpolation='nearest', cmap=cmap)\n",
    "    plt.title(title)\n",
    "    plt.colorbar()\n",
    "    tick_marks = np.arange(len(classes))\n",
    "    plt.xticks(tick_marks, classes, rotation=45)\n",
    "    plt.yticks(tick_marks, classes)\n",
    "\n",
    "    fmt = '.2f' if normalize else 'd'\n",
    "    thresh = cm.max() / 2.\n",
    "    for i, j in itertools.product(range(cm.shape[0]), range(cm.shape[1])):\n",
    "        plt.text(j, i, format(cm[i, j], fmt),\n",
    "                 horizontalalignment=\"center\",\n",
    "                 color=\"white\" if cm[i, j] > thresh else \"black\")\n",
    "\n",
    "    plt.tight_layout()\n",
    "    plt.ylabel('True label')\n",
    "    plt.xlabel('Predicted label')"
   ]
  },
  {
   "cell_type": "code",
   "execution_count": 17,
   "metadata": {
    "collapsed": true
   },
   "outputs": [],
   "source": [
    "# define the test train split random_state seed\n",
    "seed = 123\n",
    "gnb = GaussianNB()"
   ]
  },
  {
   "cell_type": "markdown",
   "metadata": {},
   "source": [
    "## 3.1 Action Recognition using Inertial Dataset"
   ]
  },
  {
   "cell_type": "code",
   "execution_count": 18,
   "metadata": {
    "collapsed": true
   },
   "outputs": [],
   "source": [
    "# perform test train split for classification model building using inertial features\n",
    "x_train_inertial, x_test_inertial, y_train_inertial, y_test_inertial = train_test_split(inertial_features, complete_activity_label, test_size=0.25, random_state=seed)"
   ]
  },
  {
   "cell_type": "code",
   "execution_count": 19,
   "metadata": {
    "collapsed": true
   },
   "outputs": [],
   "source": [
    "# fit the model\n",
    "inertial_gnb_model = gnb.fit(x_train_inertial, y_train_inertial)"
   ]
  },
  {
   "cell_type": "code",
   "execution_count": 20,
   "metadata": {
    "collapsed": true
   },
   "outputs": [],
   "source": [
    "# predict the action using the built classsification model\n",
    "y_predicted_inertial = inertial_gnb_model.predict(x_test_inertial)"
   ]
  },
  {
   "cell_type": "code",
   "execution_count": 21,
   "metadata": {},
   "outputs": [
    {
     "name": "stdout",
     "output_type": "stream",
     "text": [
      "[[ 2  0  0  0  0]\n",
      " [ 0 10  0  0  0]\n",
      " [ 0  1  9  0  0]\n",
      " [ 0  0  0 11  0]\n",
      " [ 0  0  0  0  7]]\n",
      "             precision    recall  f1-score   support\n",
      "\n",
      "       clap       1.00      1.00      1.00         2\n",
      " swipt_left       0.91      1.00      0.95        10\n",
      "swipt_right       1.00      0.90      0.95        10\n",
      "      throw       1.00      1.00      1.00        11\n",
      "       wave       1.00      1.00      1.00         7\n",
      "\n",
      "avg / total       0.98      0.97      0.97        40\n",
      "\n",
      "Validation accuracy: 97.50%\n"
     ]
    }
   ],
   "source": [
    "# evaluate the confusion matrix and accuracy of model built using test data of inertial dataset\n",
    "print(confusion_matrix(y_test_inertial, y_predicted_inertial))\n",
    "print(classification_report(y_test_inertial, y_predicted_inertial))\n",
    "\n",
    "score = accuracy_score(y_test_inertial, y_predicted_inertial)\n",
    "print(\"Validation accuracy: {:.2%}\".format(score))"
   ]
  },
  {
   "cell_type": "code",
   "execution_count": 22,
   "metadata": {},
   "outputs": [
    {
     "name": "stdout",
     "output_type": "stream",
     "text": [
      "Confusion matrix\n"
     ]
    },
    {
     "data": {
      "image/png": "[encoded data removed]",
      "text/plain": [
       "<matplotlib.figure.Figure at 0x2186d4fed30>"
      ]
     },
     "metadata": {},
     "output_type": "display_data"
    },
    {
     "data": {
      "text/plain": [
       "<matplotlib.figure.Figure at 0x2186d4fe470>"
      ]
     },
     "metadata": {},
     "output_type": "display_data"
    }
   ],
   "source": [
    "# plot the confusion matrix of classification model\n",
    "sns.set(style=\"whitegrid\", font_scale=1)\n",
    "cnf_matrix = confusion_matrix(y_test_inertial, y_predicted_inertial)\n",
    "plot_confusion_matrix(cnf_matrix, classes=[],\n",
    "                      title='Confusion Matrix of Classification Model')\n",
    "plt.figure()\n",
    "plt.show()"
   ]
  },
  {
   "cell_type": "code",
   "execution_count": 23,
   "metadata": {
    "collapsed": true
   },
   "outputs": [],
   "source": [
    "# store and export the predicted result \n",
    "# pd.DataFrame(y_predicted_inertial).to_csv('inertial_predicted_5.csv')"
   ]
  },
  {
   "cell_type": "markdown",
   "metadata": {},
   "source": [
    "## 3.2 Action Recognition using Skeleton Dataset"
   ]
  },
  {
   "cell_type": "code",
   "execution_count": 24,
   "metadata": {
    "collapsed": true
   },
   "outputs": [],
   "source": [
    "# perform test train split for classification model building using skeleton features\n",
    "x_train_skeleton, x_test_skeleton, y_train_skeleton, y_test_skeleton = train_test_split(skeleton_features, complete_activity_label, test_size=0.25, random_state=seed)"
   ]
  },
  {
   "cell_type": "code",
   "execution_count": 25,
   "metadata": {
    "collapsed": true
   },
   "outputs": [],
   "source": [
    "# fit the model\n",
    "skeleton_gnb_model = gnb.fit(x_train_skeleton, y_train_skeleton)"
   ]
  },
  {
   "cell_type": "code",
   "execution_count": 26,
   "metadata": {
    "collapsed": true
   },
   "outputs": [],
   "source": [
    "# predict the action using the built classsification model\n",
    "y_predicted_skeleton = skeleton_gnb_model.predict(x_test_skeleton)"
   ]
  },
  {
   "cell_type": "code",
   "execution_count": 27,
   "metadata": {},
   "outputs": [
    {
     "name": "stdout",
     "output_type": "stream",
     "text": [
      "[[ 2  0  0  0  0]\n",
      " [ 0  5  2  1  2]\n",
      " [ 0  1  4  1  4]\n",
      " [ 0  0  0 11  0]\n",
      " [ 0  0  3  2  2]]\n",
      "             precision    recall  f1-score   support\n",
      "\n",
      "       clap       1.00      1.00      1.00         2\n",
      " swipt_left       0.83      0.50      0.62        10\n",
      "swipt_right       0.44      0.40      0.42        10\n",
      "      throw       0.73      1.00      0.85        11\n",
      "       wave       0.25      0.29      0.27         7\n",
      "\n",
      "avg / total       0.61      0.60      0.59        40\n",
      "\n",
      "Validation accuracy: 60.00%\n"
     ]
    }
   ],
   "source": [
    "# evaluate the confusion matrix and accuracy of model built using test data of skeleton dataset\n",
    "print(confusion_matrix(y_test_skeleton, y_predicted_skeleton))\n",
    "print(classification_report(y_test_skeleton, y_predicted_skeleton))\n",
    "\n",
    "score = accuracy_score(y_test_skeleton, y_predicted_skeleton)\n",
    "print(\"Validation accuracy: {:.2%}\".format(score))"
   ]
  },
  {
   "cell_type": "code",
   "execution_count": 28,
   "metadata": {},
   "outputs": [
    {
     "name": "stdout",
     "output_type": "stream",
     "text": [
      "Confusion matrix\n"
     ]
    },
    {
     "data": {
      "image/png": "[encoded data removed]",
      "text/plain": [
       "<matplotlib.figure.Figure at 0x21804413320>"
      ]
     },
     "metadata": {},
     "output_type": "display_data"
    },
    {
     "data": {
      "text/plain": [
       "<matplotlib.figure.Figure at 0x2186c506518>"
      ]
     },
     "metadata": {},
     "output_type": "display_data"
    }
   ],
   "source": [
    "# evaluate the confusion matrix and accuracy of model built using test data of skeleton dataset\n",
    "sns.set(style=\"whitegrid\", font_scale=1)\n",
    "cnf_matrix = confusion_matrix(y_test_skeleton, y_predicted_skeleton)\n",
    "plot_confusion_matrix(cnf_matrix, classes=[],\n",
    "                      title='Confusion Matrix of Classification Model')\n",
    "plt.figure()\n",
    "plt.show()"
   ]
  },
  {
   "cell_type": "code",
   "execution_count": 29,
   "metadata": {
    "collapsed": true
   },
   "outputs": [],
   "source": [
    "# store and export the predicted result \n",
    "# pd.DataFrame(y_predicted_skeleton).to_csv('skeleton_predicted_5.csv')"
   ]
  },
  {
   "cell_type": "markdown",
   "metadata": {},
   "source": [
    "## 3.3 Action Recognition using Depth Dataset"
   ]
  },
  {
   "cell_type": "code",
   "execution_count": 30,
   "metadata": {
    "collapsed": true
   },
   "outputs": [],
   "source": [
    "# perform test train split for classification model building using depth features\n",
    "x_train_depth, x_test_depth, y_train_depth, y_test_depth = train_test_split(depth_features, complete_activity_label, test_size=0.25, random_state=seed)"
   ]
  },
  {
   "cell_type": "code",
   "execution_count": 31,
   "metadata": {},
   "outputs": [],
   "source": [
    "# fit the model\n",
    "depth_gnb_model = gnb.fit(x_train_depth, y_train_depth)"
   ]
  },
  {
   "cell_type": "code",
   "execution_count": 32,
   "metadata": {
    "collapsed": true
   },
   "outputs": [],
   "source": [
    "# predict the action using the built classsification model\n",
    "y_predicted_depth = depth_gnb_model.predict(x_test_depth)"
   ]
  },
  {
   "cell_type": "code",
   "execution_count": 33,
   "metadata": {},
   "outputs": [
    {
     "name": "stdout",
     "output_type": "stream",
     "text": [
      "[[ 1  1  0  0  0]\n",
      " [ 0  9  0  1  0]\n",
      " [ 0  0 10  0  0]\n",
      " [ 0  0  0 10  1]\n",
      " [ 0  0  0  0  7]]\n",
      "             precision    recall  f1-score   support\n",
      "\n",
      "       clap       1.00      0.50      0.67         2\n",
      " swipt_left       0.90      0.90      0.90        10\n",
      "swipt_right       1.00      1.00      1.00        10\n",
      "      throw       0.91      0.91      0.91        11\n",
      "       wave       0.88      1.00      0.93         7\n",
      "\n",
      "avg / total       0.93      0.93      0.92        40\n",
      "\n",
      "Validation accuracy: 92.50%\n"
     ]
    }
   ],
   "source": [
    "# evaluate the confusion matrix and accuracy of model built using test data of depth dataset\n",
    "print(confusion_matrix(y_test_depth, y_predicted_depth))\n",
    "print(classification_report(y_test_depth, y_predicted_depth))\n",
    "\n",
    "score = accuracy_score(y_test_depth, y_predicted_depth)\n",
    "print(\"Validation accuracy: {:.2%}\".format(score))"
   ]
  },
  {
   "cell_type": "code",
   "execution_count": 34,
   "metadata": {},
   "outputs": [
    {
     "name": "stdout",
     "output_type": "stream",
     "text": [
      "Confusion matrix\n"
     ]
    },
    {
     "data": {
      "image/png": "[encoded data removed]",
      "text/plain": [
       "<matplotlib.figure.Figure at 0x21804562128>"
      ]
     },
     "metadata": {},
     "output_type": "display_data"
    },
    {
     "data": {
      "text/plain": [
       "<matplotlib.figure.Figure at 0x218045621d0>"
      ]
     },
     "metadata": {},
     "output_type": "display_data"
    }
   ],
   "source": [
    "# plot the confusion matrix of classification model\n",
    "sns.set(style=\"whitegrid\", font_scale=1)\n",
    "cnf_matrix = confusion_matrix(y_test_depth, y_predicted_depth)\n",
    "plot_confusion_matrix(cnf_matrix, classes=[],\n",
    "                      title='Confusion Matrix of Classification Model')\n",
    "plt.figure()\n",
    "plt.show()"
   ]
  },
  {
   "cell_type": "code",
   "execution_count": 35,
   "metadata": {
    "collapsed": true
   },
   "outputs": [],
   "source": [
    "# store and export the predicted result \n",
    "# pd.DataFrame(y_predicted_depth).to_csv('depth_predicted_5.csv')"
   ]
  },
  {
   "cell_type": "markdown",
   "metadata": {},
   "source": [
    "# 4.0 Action Recognition using Multimodal Sensors Fusion"
   ]
  },
  {
   "cell_type": "code",
   "execution_count": 36,
   "metadata": {
    "collapsed": true
   },
   "outputs": [],
   "source": [
    "# convert the predicted action for multimodal sensors to dataframe\n",
    "df_y_predicted_inertial = pd.DataFrame(y_predicted_inertial) \n",
    "df_y_predicted_skeleton = pd.DataFrame(y_predicted_skeleton) \n",
    "df_y_predicted_depth = pd.DataFrame(y_predicted_depth)"
   ]
  },
  {
   "cell_type": "code",
   "execution_count": 37,
   "metadata": {
    "collapsed": true
   },
   "outputs": [],
   "source": [
    "# concatenate the dataframe and rename the column\n",
    "df_y_predicted_fusion = pd.concat([df_y_predicted_inertial, df_y_predicted_skeleton, df_y_predicted_depth], axis=1)\n",
    "df_y_predicted_fusion.columns = ['Inertial', 'Skeleton', 'Depth']"
   ]
  },
  {
   "cell_type": "code",
   "execution_count": 38,
   "metadata": {
    "collapsed": true
   },
   "outputs": [],
   "source": [
    "############################################################################################\n",
    "###define a algorithm for action recognition using fusion data using simple voting method###\n",
    "############################################################################################\n",
    "# 1. recognise as true action from majority models if two or above sensors recognised as a same action\n",
    "# 2. recognise as true action from inertial model if three sensors give 3 different recognition of action\n",
    "\n",
    "df_y_predicted_fusion['Final'] = 'initial'\n",
    "for index, row in df_y_predicted_fusion.iterrows():\n",
    "    if (df_y_predicted_fusion['Inertial'][index] == df_y_predicted_fusion['Skeleton'][index]):\n",
    "        df_y_predicted_fusion['Final'][index] = df_y_predicted_fusion['Inertial'][index]       \n",
    "    elif (df_y_predicted_fusion['Inertial'][index] == df_y_predicted_fusion['Depth'][index]):\n",
    "        df_y_predicted_fusion['Final'][index] = df_y_predicted_fusion['Inertial'][index]\n",
    "    elif (df_y_predicted_fusion['Skeleton'][index] == df_y_predicted_fusion['Depth'][index]):\n",
    "        df_y_predicted_fusion['Final'][index] = df_y_predicted_fusion['Skeleton'][index]\n",
    "    else:\n",
    "        df_y_predicted_fusion['Final'][index] = df_y_predicted_fusion['Inertial'][index]"
   ]
  },
  {
   "cell_type": "code",
   "execution_count": 39,
   "metadata": {},
   "outputs": [
    {
     "data": {
      "text/html": [
       "<div>\n",
       "<style>\n",
       "    .dataframe thead tr:only-child th {\n",
       "        text-align: right;\n",
       "    }\n",
       "\n",
       "    .dataframe thead th {\n",
       "        text-align: left;\n",
       "    }\n",
       "\n",
       "    .dataframe tbody tr th {\n",
       "        vertical-align: top;\n",
       "    }\n",
       "</style>\n",
       "<table border=\"1\" class=\"dataframe\">\n",
       "  <thead>\n",
       "    <tr style=\"text-align: right;\">\n",
       "      <th></th>\n",
       "      <th>Inertial</th>\n",
       "      <th>Skeleton</th>\n",
       "      <th>Depth</th>\n",
       "      <th>Final</th>\n",
       "    </tr>\n",
       "  </thead>\n",
       "  <tbody>\n",
       "    <tr>\n",
       "      <th>0</th>\n",
       "      <td>throw</td>\n",
       "      <td>throw</td>\n",
       "      <td>throw</td>\n",
       "      <td>throw</td>\n",
       "    </tr>\n",
       "    <tr>\n",
       "      <th>1</th>\n",
       "      <td>throw</td>\n",
       "      <td>throw</td>\n",
       "      <td>throw</td>\n",
       "      <td>throw</td>\n",
       "    </tr>\n",
       "    <tr>\n",
       "      <th>2</th>\n",
       "      <td>clap</td>\n",
       "      <td>clap</td>\n",
       "      <td>clap</td>\n",
       "      <td>clap</td>\n",
       "    </tr>\n",
       "    <tr>\n",
       "      <th>3</th>\n",
       "      <td>wave</td>\n",
       "      <td>throw</td>\n",
       "      <td>wave</td>\n",
       "      <td>wave</td>\n",
       "    </tr>\n",
       "    <tr>\n",
       "      <th>4</th>\n",
       "      <td>swipt_left</td>\n",
       "      <td>wave</td>\n",
       "      <td>swipt_left</td>\n",
       "      <td>swipt_left</td>\n",
       "    </tr>\n",
       "    <tr>\n",
       "      <th>5</th>\n",
       "      <td>wave</td>\n",
       "      <td>wave</td>\n",
       "      <td>wave</td>\n",
       "      <td>wave</td>\n",
       "    </tr>\n",
       "    <tr>\n",
       "      <th>6</th>\n",
       "      <td>wave</td>\n",
       "      <td>swipt_right</td>\n",
       "      <td>wave</td>\n",
       "      <td>wave</td>\n",
       "    </tr>\n",
       "    <tr>\n",
       "      <th>7</th>\n",
       "      <td>throw</td>\n",
       "      <td>throw</td>\n",
       "      <td>wave</td>\n",
       "      <td>throw</td>\n",
       "    </tr>\n",
       "    <tr>\n",
       "      <th>8</th>\n",
       "      <td>swipt_left</td>\n",
       "      <td>swipt_left</td>\n",
       "      <td>swipt_left</td>\n",
       "      <td>swipt_left</td>\n",
       "    </tr>\n",
       "    <tr>\n",
       "      <th>9</th>\n",
       "      <td>swipt_left</td>\n",
       "      <td>wave</td>\n",
       "      <td>swipt_left</td>\n",
       "      <td>swipt_left</td>\n",
       "    </tr>\n",
       "    <tr>\n",
       "      <th>10</th>\n",
       "      <td>clap</td>\n",
       "      <td>clap</td>\n",
       "      <td>swipt_left</td>\n",
       "      <td>clap</td>\n",
       "    </tr>\n",
       "    <tr>\n",
       "      <th>11</th>\n",
       "      <td>swipt_right</td>\n",
       "      <td>swipt_right</td>\n",
       "      <td>swipt_right</td>\n",
       "      <td>swipt_right</td>\n",
       "    </tr>\n",
       "    <tr>\n",
       "      <th>12</th>\n",
       "      <td>swipt_right</td>\n",
       "      <td>swipt_right</td>\n",
       "      <td>swipt_right</td>\n",
       "      <td>swipt_right</td>\n",
       "    </tr>\n",
       "    <tr>\n",
       "      <th>13</th>\n",
       "      <td>wave</td>\n",
       "      <td>throw</td>\n",
       "      <td>wave</td>\n",
       "      <td>wave</td>\n",
       "    </tr>\n",
       "    <tr>\n",
       "      <th>14</th>\n",
       "      <td>wave</td>\n",
       "      <td>swipt_right</td>\n",
       "      <td>wave</td>\n",
       "      <td>wave</td>\n",
       "    </tr>\n",
       "    <tr>\n",
       "      <th>15</th>\n",
       "      <td>wave</td>\n",
       "      <td>wave</td>\n",
       "      <td>wave</td>\n",
       "      <td>wave</td>\n",
       "    </tr>\n",
       "    <tr>\n",
       "      <th>16</th>\n",
       "      <td>swipt_right</td>\n",
       "      <td>wave</td>\n",
       "      <td>swipt_right</td>\n",
       "      <td>swipt_right</td>\n",
       "    </tr>\n",
       "    <tr>\n",
       "      <th>17</th>\n",
       "      <td>throw</td>\n",
       "      <td>throw</td>\n",
       "      <td>throw</td>\n",
       "      <td>throw</td>\n",
       "    </tr>\n",
       "    <tr>\n",
       "      <th>18</th>\n",
       "      <td>swipt_left</td>\n",
       "      <td>throw</td>\n",
       "      <td>swipt_left</td>\n",
       "      <td>swipt_left</td>\n",
       "    </tr>\n",
       "    <tr>\n",
       "      <th>19</th>\n",
       "      <td>swipt_right</td>\n",
       "      <td>throw</td>\n",
       "      <td>swipt_right</td>\n",
       "      <td>swipt_right</td>\n",
       "    </tr>\n",
       "  </tbody>\n",
       "</table>\n",
       "</div>"
      ],
      "text/plain": [
       "       Inertial     Skeleton        Depth        Final\n",
       "0         throw        throw        throw        throw\n",
       "1         throw        throw        throw        throw\n",
       "2          clap         clap         clap         clap\n",
       "3          wave        throw         wave         wave\n",
       "4    swipt_left         wave   swipt_left   swipt_left\n",
       "5          wave         wave         wave         wave\n",
       "6          wave  swipt_right         wave         wave\n",
       "7         throw        throw         wave        throw\n",
       "8    swipt_left   swipt_left   swipt_left   swipt_left\n",
       "9    swipt_left         wave   swipt_left   swipt_left\n",
       "10         clap         clap   swipt_left         clap\n",
       "11  swipt_right  swipt_right  swipt_right  swipt_right\n",
       "12  swipt_right  swipt_right  swipt_right  swipt_right\n",
       "13         wave        throw         wave         wave\n",
       "14         wave  swipt_right         wave         wave\n",
       "15         wave         wave         wave         wave\n",
       "16  swipt_right         wave  swipt_right  swipt_right\n",
       "17        throw        throw        throw        throw\n",
       "18   swipt_left        throw   swipt_left   swipt_left\n",
       "19  swipt_right        throw  swipt_right  swipt_right"
      ]
     },
     "execution_count": 39,
     "metadata": {},
     "output_type": "execute_result"
    }
   ],
   "source": [
    "# verify the predicted action using fusion data\n",
    "df_y_predicted_fusion.head(20)"
   ]
  },
  {
   "cell_type": "code",
   "execution_count": 40,
   "metadata": {
    "scrolled": false
   },
   "outputs": [
    {
     "name": "stdout",
     "output_type": "stream",
     "text": [
      "[[ 2  0  0  0  0]\n",
      " [ 0 10  0  0  0]\n",
      " [ 0  0 10  0  0]\n",
      " [ 0  0  0 11  0]\n",
      " [ 0  0  0  0  7]]\n",
      "             precision    recall  f1-score   support\n",
      "\n",
      "       clap       1.00      1.00      1.00         2\n",
      " swipt_left       1.00      1.00      1.00        10\n",
      "swipt_right       1.00      1.00      1.00        10\n",
      "      throw       1.00      1.00      1.00        11\n",
      "       wave       1.00      1.00      1.00         7\n",
      "\n",
      "avg / total       1.00      1.00      1.00        40\n",
      "\n",
      "Validation accuracy: 100.00%\n"
     ]
    }
   ],
   "source": [
    "# evaluate the confusion matrix and accuracy of model built using test data of fusion of multimodal sensors\n",
    "y_test_fusion = y_test_inertial\n",
    "y_predicted_fusion = df_y_predicted_fusion['Final'].as_matrix()\n",
    "\n",
    "# evaluate the confusion matrix and accuracy of model built using test data \n",
    "print(confusion_matrix(y_test_fusion, y_predicted_fusion))\n",
    "print(classification_report(y_test_fusion, y_predicted_fusion))\n",
    "\n",
    "score = accuracy_score(y_test_fusion, y_predicted_fusion)\n",
    "print(\"Validation accuracy: {:.2%}\".format(score))"
   ]
  },
  {
   "cell_type": "code",
   "execution_count": 41,
   "metadata": {},
   "outputs": [
    {
     "name": "stdout",
     "output_type": "stream",
     "text": [
      "Confusion matrix\n"
     ]
    },
    {
     "data": {
      "image/png": "[encoded data removed]",
      "text/plain": [
       "<matplotlib.figure.Figure at 0x218059e3fd0>"
      ]
     },
     "metadata": {},
     "output_type": "display_data"
    },
    {
     "data": {
      "text/plain": [
       "<matplotlib.figure.Figure at 0x21804413dd8>"
      ]
     },
     "metadata": {},
     "output_type": "display_data"
    }
   ],
   "source": [
    "# plot the confusion matrix of classification model\n",
    "sns.set(style=\"whitegrid\", font_scale=1)\n",
    "cnf_matrix = confusion_matrix(y_test_fusion, y_predicted_fusion)\n",
    "plot_confusion_matrix(cnf_matrix, classes=[],\n",
    "                      title='Confusion Matrix of Classification Model')\n",
    "plt.figure()\n",
    "plt.show()"
   ]
  }
 ],
 "metadata": {
  "anaconda-cloud": {},
  "kernelspec": {
   "display_name": "Python 3",
   "language": "python",
   "name": "python3"
  },
  "language_info": {
   "codemirror_mode": {
    "name": "ipython",
    "version": 3
   },
   "file_extension": ".py",
   "mimetype": "text/x-python",
   "name": "python",
   "nbconvert_exporter": "python",
   "pygments_lexer": "ipython3",
   "version": "3.6.2"
  }
 },
 "nbformat": 4,
 "nbformat_minor": 2
}
